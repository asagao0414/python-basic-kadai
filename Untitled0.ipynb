{
  "nbformat": 4,
  "nbformat_minor": 0,
  "metadata": {
    "colab": {
      "provenance": [],
      "authorship_tag": "ABX9TyPGMczCnesDu/EAQk1bPcbC",
      "include_colab_link": true
    },
    "kernelspec": {
      "name": "python3",
      "display_name": "Python 3"
    },
    "language_info": {
      "name": "python"
    }
  },
  "cells": [
    {
      "cell_type": "markdown",
      "metadata": {
        "id": "view-in-github",
        "colab_type": "text"
      },
      "source": [
        "<a href=\"https://colab.research.google.com/github/asagao0414/python-basic-kadai/blob/main/Untitled0.ipynb\" target=\"_parent\"><img src=\"https://colab.research.google.com/assets/colab-badge.svg\" alt=\"Open In Colab\"/></a>"
      ]
    },
    {
      "cell_type": "code",
      "execution_count": null,
      "metadata": {
        "colab": {
          "base_uri": "https://localhost:8080/"
        },
        "id": "klZpqFM3k147",
        "outputId": "e62ffbb2-1cf6-4172-84b8-b2cbe74b17c2"
      },
      "outputs": [
        {
          "output_type": "stream",
          "name": "stdout",
          "text": [
            "台形の面積は： 75.0 平方センチメートル\n"
          ]
        }
      ],
      "source": [
        "#　台形の情報\n",
        "Upper_Base = 10\n",
        "Lower_Base = 20\n",
        "Height = 5\n",
        "\n",
        "# 台形の面積\n",
        "Area = (Upper_Base + Lower_Base) * Height / 2\n",
        "\n",
        "# 結果の出力\n",
        "print(\"台形の面積は：\", Area,\"平方センチメートル\")"
      ]
    }
  ]
}