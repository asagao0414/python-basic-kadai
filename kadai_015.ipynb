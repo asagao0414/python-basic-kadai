{
  "nbformat": 4,
  "nbformat_minor": 0,
  "metadata": {
    "colab": {
      "provenance": [],
      "authorship_tag": "ABX9TyODTQrB1idg+HkQmofQikCT",
      "include_colab_link": true
    },
    "kernelspec": {
      "name": "python3",
      "display_name": "Python 3"
    },
    "language_info": {
      "name": "python"
    }
  },
  "cells": [
    {
      "cell_type": "markdown",
      "metadata": {
        "id": "view-in-github",
        "colab_type": "text"
      },
      "source": [
        "<a href=\"https://colab.research.google.com/github/asagao0414/python-basic-kadai/blob/main/kadai_015.ipynb\" target=\"_parent\"><img src=\"https://colab.research.google.com/assets/colab-badge.svg\" alt=\"Open In Colab\"/></a>"
      ]
    },
    {
      "cell_type": "code",
      "execution_count": 4,
      "metadata": {
        "colab": {
          "base_uri": "https://localhost:8080/",
          "height": 148
        },
        "id": "DaO3X_gBqh1M",
        "outputId": "7111d630-5f5c-4104-ebf6-5c9170445859"
      },
      "outputs": [
        {
          "output_type": "error",
          "ename": "IndentationError",
          "evalue": "ignored",
          "traceback": [
            "\u001b[0;36m  File \u001b[0;32m\"<ipython-input-4-bac353d89470>\"\u001b[0;36m, line \u001b[0;32m4\u001b[0m\n\u001b[0;31m    self.nama = \"\"\u001b[0m\n\u001b[0m    ^\u001b[0m\n\u001b[0;31mIndentationError\u001b[0m\u001b[0;31m:\u001b[0m unexpected indent\n"
          ]
        }
      ],
      "source": [
        "#　クラスを定義\n",
        "class Human():\n",
        "  def__init__(self)\n",
        "    self.nama = \"\"\n",
        "    self.ago = \"\"\n",
        "\n",
        "  #　メソッドを定義\n",
        "  def set_name(self, nama):\n",
        "    self.name = name\n",
        "\n",
        "  def show_name(self):\n",
        "      print(self.name)\n",
        "\n",
        "  def set_ago(self, ago):\n",
        "    self.ago = ago\n",
        "\n",
        "  def set_ado(self):\n",
        "    print(self, ago)\n",
        "\n",
        "#　インスタン化\n",
        "printinfo = Human()\n",
        "\n",
        "#　出力\n",
        "printinfo.set_name(\"kadai\")\n",
        "printinfo.show_name()\n",
        "\n",
        "printinfo.set_nama(\"15\")\n",
        "printinfo.show_name()"
      ]
    }
  ]
}