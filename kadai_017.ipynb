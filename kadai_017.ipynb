{
  "nbformat": 4,
  "nbformat_minor": 0,
  "metadata": {
    "colab": {
      "provenance": [],
      "authorship_tag": "ABX9TyPBFrduFZrdQ5KbIB2aaSr5",
      "include_colab_link": true
    },
    "kernelspec": {
      "name": "python3",
      "display_name": "Python 3"
    },
    "language_info": {
      "name": "python"
    }
  },
  "cells": [
    {
      "cell_type": "markdown",
      "metadata": {
        "id": "view-in-github",
        "colab_type": "text"
      },
      "source": [
        "<a href=\"https://colab.research.google.com/github/asagao0414/python-basic-kadai/blob/main/kadai_017.ipynb\" target=\"_parent\"><img src=\"https://colab.research.google.com/assets/colab-badge.svg\" alt=\"Open In Colab\"/></a>"
      ]
    },
    {
      "cell_type": "code",
      "execution_count": null,
      "metadata": {
        "id": "036zzKMSTkzg"
      },
      "outputs": [],
      "source": [
        "class Human:\n",
        "    def __init__(self, name, age):\n",
        "        self.name = name\n",
        "        self.age = age\n",
        "\n",
        "    def check_adult(self):\n",
        "        if self.age >= 20:\n",
        "            print(f\"{self.name}さんは大人です。\")\n",
        "        else:\n",
        "            print(f\"{self.name}さんは大人ではありません。\")\n",
        "\n",
        "# Humanクラスのインスタンスを生成し、リストに追加\n",
        "human_list = [\n",
        "    Human(\"taro\", 25),\n",
        "    Human(\"jiro\", 18),\n",
        "    Human(\"saburo\", 30)\n",
        "]\n",
        "\n",
        "# リストの要素数分だけcheck_adultメソッドを呼び出す\n",
        "for human in human_list:\n",
        "    human.check_adult()\n"
      ]
    }
  ]
}